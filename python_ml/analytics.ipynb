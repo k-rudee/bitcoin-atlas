{
 "cells": [
  {
   "cell_type": "code",
   "execution_count": 1,
   "id": "initial_id",
   "metadata": {
    "collapsed": true,
    "ExecuteTime": {
     "end_time": "2024-11-17T09:22:00.576754Z",
     "start_time": "2024-11-17T09:21:59.320563Z"
    }
   },
   "outputs": [],
   "source": [
    "import numpy as np\n",
    "import pandas as pd\n",
    "\n",
    "from bitcoin_app.data_load import load_dataset\n",
    "from bitcoin_app.data_processing import data_processing\n",
    "from bitcoin_app.clustering import find_n_clusters, clustering\n",
    "from bitcoin_app.save_dataset import save_dataset\n",
    "from bitcoin_app.settings import Settings"
   ]
  },
  {
   "cell_type": "code",
   "execution_count": 2,
   "outputs": [
    {
     "name": "stderr",
     "output_type": "stream",
     "text": [
      "2024-11-17 22:22:00,576 - bitcoin_app.data_load - INFO - Dataset loading has been started.\n",
      "2024-11-17 22:22:12,159 - bitcoin_app.data_load - INFO - Dataset has been loaded. DF shape: (7373206, 7)\n",
      "2024-11-17 22:22:12,294 - bitcoin_app.data_load - INFO - NA values has been dropped. DF shape: (7373205, 7)\n",
      "2024-11-17 22:22:12,715 - bitcoin_app.data_load - INFO - Dataset split into indexes and samples. Index shape: (7373205,). Samples shape: (7373205, 6)\n"
     ]
    }
   ],
   "source": [
    "settings = Settings()\n",
    "\n",
    "idx, X, df = load_dataset(\n",
    "    path=settings.dataset.dataset_path,\n",
    "    dtype=settings.dataset.dtype,\n",
    "    drop_na=settings.dataset.drop_na,\n",
    ")"
   ],
   "metadata": {
    "collapsed": false,
    "ExecuteTime": {
     "end_time": "2024-11-17T09:22:12.722702Z",
     "start_time": "2024-11-17T09:22:00.577472Z"
    }
   },
   "id": "9db1cccccb6f8144"
  },
  {
   "cell_type": "markdown",
   "source": [
    "# Principal Component Analysis"
   ],
   "metadata": {
    "collapsed": false
   },
   "id": "f5f6b34f914fee48"
  },
  {
   "cell_type": "code",
   "execution_count": 3,
   "outputs": [
    {
     "name": "stderr",
     "output_type": "stream",
     "text": [
      "2024-11-17 22:22:12,717 - bitcoin_app.data_processing - INFO - Data preprocessing has been started.\n",
      "2024-11-17 22:22:14,536 - bitcoin_app.data_processing - INFO - Data scaled.\n",
      "2024-11-17 22:22:14,859 - bitcoin_app.data_processing - INFO - PCA performed.\n",
      "2024-11-17 22:22:14,860 - bitcoin_app.data_processing - INFO - PCA Components: [[ 0.50000367  0.5060643   0.08769862  0.50140492  0.47681457  0.08628545]\n",
      " [-0.04144324 -0.05299161  0.70021842 -0.0414018  -0.11233192  0.70059685]\n",
      " [-0.22355685  0.20486164  0.6480565  -0.21670278  0.23789888 -0.62009745]]\n",
      "2024-11-17 22:22:14,866 - bitcoin_app.data_processing - INFO - PCA Explained Variance: [0.6153446  0.27594962 0.05494881]\n"
     ]
    }
   ],
   "source": [
    "scaler, pca, X_pca = data_processing(\n",
    "    X,\n",
    "    pca_n_components=settings.preprocessing.pca_n_components,\n",
    "    pca_random_state=settings.preprocessing.pca_random_state,\n",
    ")"
   ],
   "metadata": {
    "collapsed": false,
    "ExecuteTime": {
     "end_time": "2024-11-17T09:22:14.913316Z",
     "start_time": "2024-11-17T09:22:12.718386Z"
    }
   },
   "id": "e251046fdebaa471"
  },
  {
   "cell_type": "code",
   "execution_count": 4,
   "outputs": [
    {
     "data": {
      "text/plain": "  Principal Component  Explained Variance Ratio  Cumulative Explained Variance\n0                 PC1                  0.615345                       0.615345\n1                 PC2                  0.275950                       0.891294\n2                 PC3                  0.054949                       0.946243",
      "text/html": "<div>\n<style scoped>\n    .dataframe tbody tr th:only-of-type {\n        vertical-align: middle;\n    }\n\n    .dataframe tbody tr th {\n        vertical-align: top;\n    }\n\n    .dataframe thead th {\n        text-align: right;\n    }\n</style>\n<table border=\"1\" class=\"dataframe\">\n  <thead>\n    <tr style=\"text-align: right;\">\n      <th></th>\n      <th>Principal Component</th>\n      <th>Explained Variance Ratio</th>\n      <th>Cumulative Explained Variance</th>\n    </tr>\n  </thead>\n  <tbody>\n    <tr>\n      <th>0</th>\n      <td>PC1</td>\n      <td>0.615345</td>\n      <td>0.615345</td>\n    </tr>\n    <tr>\n      <th>1</th>\n      <td>PC2</td>\n      <td>0.275950</td>\n      <td>0.891294</td>\n    </tr>\n    <tr>\n      <th>2</th>\n      <td>PC3</td>\n      <td>0.054949</td>\n      <td>0.946243</td>\n    </tr>\n  </tbody>\n</table>\n</div>"
     },
     "execution_count": 4,
     "metadata": {},
     "output_type": "execute_result"
    }
   ],
   "source": [
    "explained_variance = pca.explained_variance_ratio_\n",
    "cumulative_variance = explained_variance.cumsum()\n",
    "\n",
    "variance_df = pd.DataFrame({\n",
    "    'Principal Component': [f'PC{i+1}' for i in range(len(explained_variance))],\n",
    "    'Explained Variance Ratio': explained_variance,\n",
    "    'Cumulative Explained Variance': cumulative_variance\n",
    "})\n",
    "\n",
    "variance_df"
   ],
   "metadata": {
    "collapsed": false,
    "ExecuteTime": {
     "end_time": "2024-11-17T09:22:14.936076Z",
     "start_time": "2024-11-17T09:22:14.910968Z"
    }
   },
   "id": "8eb65b4153b49618"
  },
  {
   "cell_type": "code",
   "execution_count": 5,
   "outputs": [
    {
     "name": "stdout",
     "output_type": "stream",
     "text": [
      "(7373205, 4)\n"
     ]
    },
    {
     "data": {
      "text/plain": "   ENTITY_ID       PC1       PC2       PC3\n0  997040325 -0.013396 -0.002200  0.003873\n1  998226697 -0.001921 -0.002518 -0.000608\n2  995117731 -0.013396 -0.002200  0.003873\n3  991378712 -0.002011 -0.003245 -0.000456\n4  995865856 -0.013396 -0.002200  0.003873\n5  991031161 -0.008088 -0.002640  0.001500\n6  991436968 -0.008088 -0.002640  0.001500\n7  992911793 -0.013396 -0.002200  0.003873\n8  992649174 -0.012904 -0.002252  0.004072\n9  991676657 -0.002012 -0.003250 -0.000455",
      "text/html": "<div>\n<style scoped>\n    .dataframe tbody tr th:only-of-type {\n        vertical-align: middle;\n    }\n\n    .dataframe tbody tr th {\n        vertical-align: top;\n    }\n\n    .dataframe thead th {\n        text-align: right;\n    }\n</style>\n<table border=\"1\" class=\"dataframe\">\n  <thead>\n    <tr style=\"text-align: right;\">\n      <th></th>\n      <th>ENTITY_ID</th>\n      <th>PC1</th>\n      <th>PC2</th>\n      <th>PC3</th>\n    </tr>\n  </thead>\n  <tbody>\n    <tr>\n      <th>0</th>\n      <td>997040325</td>\n      <td>-0.013396</td>\n      <td>-0.002200</td>\n      <td>0.003873</td>\n    </tr>\n    <tr>\n      <th>1</th>\n      <td>998226697</td>\n      <td>-0.001921</td>\n      <td>-0.002518</td>\n      <td>-0.000608</td>\n    </tr>\n    <tr>\n      <th>2</th>\n      <td>995117731</td>\n      <td>-0.013396</td>\n      <td>-0.002200</td>\n      <td>0.003873</td>\n    </tr>\n    <tr>\n      <th>3</th>\n      <td>991378712</td>\n      <td>-0.002011</td>\n      <td>-0.003245</td>\n      <td>-0.000456</td>\n    </tr>\n    <tr>\n      <th>4</th>\n      <td>995865856</td>\n      <td>-0.013396</td>\n      <td>-0.002200</td>\n      <td>0.003873</td>\n    </tr>\n    <tr>\n      <th>5</th>\n      <td>991031161</td>\n      <td>-0.008088</td>\n      <td>-0.002640</td>\n      <td>0.001500</td>\n    </tr>\n    <tr>\n      <th>6</th>\n      <td>991436968</td>\n      <td>-0.008088</td>\n      <td>-0.002640</td>\n      <td>0.001500</td>\n    </tr>\n    <tr>\n      <th>7</th>\n      <td>992911793</td>\n      <td>-0.013396</td>\n      <td>-0.002200</td>\n      <td>0.003873</td>\n    </tr>\n    <tr>\n      <th>8</th>\n      <td>992649174</td>\n      <td>-0.012904</td>\n      <td>-0.002252</td>\n      <td>0.004072</td>\n    </tr>\n    <tr>\n      <th>9</th>\n      <td>991676657</td>\n      <td>-0.002012</td>\n      <td>-0.003250</td>\n      <td>-0.000455</td>\n    </tr>\n  </tbody>\n</table>\n</div>"
     },
     "execution_count": 5,
     "metadata": {},
     "output_type": "execute_result"
    }
   ],
   "source": [
    "# Convert principal components to DataFrame\n",
    "df_pca = pd.DataFrame(\n",
    "    X_pca, \n",
    "    columns=[f'PC{i+1}' for i in range(X_pca.shape[1])],\n",
    ")\n",
    "\n",
    "# Combine with ENTITY_ID\n",
    "df_pca = pd.concat(\n",
    "    [df.loc[:, 'ENTITY_ID'], df_pca], \n",
    "    axis=1,\n",
    ")\n",
    "print(df_pca.shape)\n",
    "df_pca.head(10)"
   ],
   "metadata": {
    "collapsed": false,
    "ExecuteTime": {
     "end_time": "2024-11-17T09:22:15.012286Z",
     "start_time": "2024-11-17T09:22:14.933903Z"
    }
   },
   "id": "de6ff3ee3b6fff00"
  },
  {
   "cell_type": "code",
   "execution_count": 6,
   "outputs": [
    {
     "data": {
      "text/plain": "                                 PC1       PC2       PC3\nTOTAL_RECIEVE_ADDRESSES     0.500004 -0.041443 -0.223557\nTOTAL_RECIEVE_TRANSACTIONS  0.506064 -0.052992  0.204862\nTOTAL_BTC_RECEIVED          0.087699  0.700218  0.648056\nTOTAL_SPEND_ADDRESSES       0.501405 -0.041402 -0.216703\nTOTAL_SPEND_TRANSACTIONS    0.476815 -0.112332  0.237899\nTOTAL_BTC_SPENT             0.086285  0.700597 -0.620097",
      "text/html": "<div>\n<style scoped>\n    .dataframe tbody tr th:only-of-type {\n        vertical-align: middle;\n    }\n\n    .dataframe tbody tr th {\n        vertical-align: top;\n    }\n\n    .dataframe thead th {\n        text-align: right;\n    }\n</style>\n<table border=\"1\" class=\"dataframe\">\n  <thead>\n    <tr style=\"text-align: right;\">\n      <th></th>\n      <th>PC1</th>\n      <th>PC2</th>\n      <th>PC3</th>\n    </tr>\n  </thead>\n  <tbody>\n    <tr>\n      <th>TOTAL_RECIEVE_ADDRESSES</th>\n      <td>0.500004</td>\n      <td>-0.041443</td>\n      <td>-0.223557</td>\n    </tr>\n    <tr>\n      <th>TOTAL_RECIEVE_TRANSACTIONS</th>\n      <td>0.506064</td>\n      <td>-0.052992</td>\n      <td>0.204862</td>\n    </tr>\n    <tr>\n      <th>TOTAL_BTC_RECEIVED</th>\n      <td>0.087699</td>\n      <td>0.700218</td>\n      <td>0.648056</td>\n    </tr>\n    <tr>\n      <th>TOTAL_SPEND_ADDRESSES</th>\n      <td>0.501405</td>\n      <td>-0.041402</td>\n      <td>-0.216703</td>\n    </tr>\n    <tr>\n      <th>TOTAL_SPEND_TRANSACTIONS</th>\n      <td>0.476815</td>\n      <td>-0.112332</td>\n      <td>0.237899</td>\n    </tr>\n    <tr>\n      <th>TOTAL_BTC_SPENT</th>\n      <td>0.086285</td>\n      <td>0.700597</td>\n      <td>-0.620097</td>\n    </tr>\n  </tbody>\n</table>\n</div>"
     },
     "execution_count": 6,
     "metadata": {},
     "output_type": "execute_result"
    }
   ],
   "source": [
    "# Prepare the PCA components\n",
    "features = df.columns[1:]\n",
    "pca_components = pca.components_.T  # Transpose for easier interpretation\n",
    "df_pca_components = pd.DataFrame(\n",
    "    pca_components, \n",
    "    index=features, \n",
    "    columns=[f'PC{i+1}' for i in range(len(explained_variance))],\n",
    ")\n",
    "\n",
    "df_pca_components"
   ],
   "metadata": {
    "collapsed": false,
    "ExecuteTime": {
     "end_time": "2024-11-17T09:22:15.033836Z",
     "start_time": "2024-11-17T09:22:14.974221Z"
    }
   },
   "id": "9f52b2ab5121ac1f"
  },
  {
   "cell_type": "markdown",
   "source": [
    "# Cluster Analysis"
   ],
   "metadata": {
    "collapsed": false
   },
   "id": "4bfd9b9ad18bb8f8"
  },
  {
   "cell_type": "code",
   "execution_count": 7,
   "outputs": [
    {
     "name": "stderr",
     "output_type": "stream",
     "text": [
      "2024-11-17 22:22:14,985 - bitcoin_app.clustering - INFO - GMM for 12 components started\n"
     ]
    },
    {
     "name": "stdout",
     "output_type": "stream",
     "text": [
      "Initialization 0\n",
      "  Iteration 1\n",
      "  Iteration 2\n",
      "  Iteration 3\n",
      "  Iteration 4\n",
      "  Iteration 5\n",
      "  Iteration 6\n",
      "  Iteration 7\n",
      "  Iteration 8\n",
      "  Iteration 9\n",
      "  Iteration 10\n",
      "  Iteration 11\n",
      "  Iteration 12\n",
      "  Iteration 13\n",
      "  Iteration 14\n",
      "  Iteration 15\n",
      "  Iteration 16\n",
      "  Iteration 17\n",
      "  Iteration 18\n",
      "  Iteration 19\n",
      "  Iteration 20\n",
      "  Iteration 21\n",
      "  Iteration 22\n",
      "  Iteration 23\n",
      "  Iteration 24\n",
      "Initialization converged.\n"
     ]
    },
    {
     "name": "stderr",
     "output_type": "stream",
     "text": [
      "2024-11-17 22:24:52,638 - bitcoin_app.clustering - INFO - GMM fitted\n",
      "2024-11-17 22:24:59,986 - bitcoin_app.clustering - INFO - Clusters for 12 components: [ 0  1  2  3  4  5  6  7  8  9 10 11]\n",
      "2024-11-17 22:24:59,987 - bitcoin_app.clustering - INFO - Clusters for 12 components counts: [7015511       1       1       3       1       3       1    2851       1\n",
      "   84377   20258  250197]\n"
     ]
    }
   ],
   "source": [
    "clusters, clusters_proba = clustering(\n",
    "    X=X_pca,\n",
    "    n_components=settings.clustering.n_components,\n",
    "    random_state=settings.clustering.random_state,\n",
    ")"
   ],
   "metadata": {
    "collapsed": false,
    "ExecuteTime": {
     "end_time": "2024-11-17T09:24:59.995205Z",
     "start_time": "2024-11-17T09:22:14.987743Z"
    }
   },
   "id": "942c94512d099f36"
  },
  {
   "cell_type": "code",
   "execution_count": 8,
   "outputs": [
    {
     "data": {
      "text/plain": "         ENTITY_ID  TOTAL_RECIEVE_ADDRESSES  TOTAL_RECIEVE_TRANSACTIONS  \\\n0        997040325                        1                           1   \n1        998226697                        2                           1   \n2        995117731                        1                           1   \n3        991378712                        2                           1   \n4        995865856                        1                           1   \n...            ...                      ...                         ...   \n7373200  992095090                        1                           1   \n7373201  993970279                        1                           1   \n7373202  996138165                        1                           1   \n7373203  993736393                        1                           1   \n7373204  997919246                        1                           1   \n\n         TOTAL_BTC_RECEIVED  TOTAL_SPEND_ADDRESSES  TOTAL_SPEND_TRANSACTIONS  \\\n0                  0.000000                      0                         0   \n1                  1.369956                      1                         1   \n2                  0.000000                      0                         0   \n3                  0.013344                      1                         1   \n4                  0.000000                      0                         0   \n...                     ...                    ...                       ...   \n7373200            0.000000                      0                         0   \n7373201            0.000000                      0                         0   \n7373202            0.000080                      1                         1   \n7373203            0.000000                      0                         0   \n7373204            0.000000                      0                         0   \n\n         TOTAL_BTC_SPENT  Cluster  \n0               0.000000        0  \n1               2.739536        0  \n2               0.000000        0  \n3               0.026688        0  \n4               0.000000        0  \n...                  ...      ...  \n7373200         0.000000        0  \n7373201         0.000000        0  \n7373202         0.000160        0  \n7373203         0.000000        0  \n7373204         0.000000        0  \n\n[7373205 rows x 8 columns]",
      "text/html": "<div>\n<style scoped>\n    .dataframe tbody tr th:only-of-type {\n        vertical-align: middle;\n    }\n\n    .dataframe tbody tr th {\n        vertical-align: top;\n    }\n\n    .dataframe thead th {\n        text-align: right;\n    }\n</style>\n<table border=\"1\" class=\"dataframe\">\n  <thead>\n    <tr style=\"text-align: right;\">\n      <th></th>\n      <th>ENTITY_ID</th>\n      <th>TOTAL_RECIEVE_ADDRESSES</th>\n      <th>TOTAL_RECIEVE_TRANSACTIONS</th>\n      <th>TOTAL_BTC_RECEIVED</th>\n      <th>TOTAL_SPEND_ADDRESSES</th>\n      <th>TOTAL_SPEND_TRANSACTIONS</th>\n      <th>TOTAL_BTC_SPENT</th>\n      <th>Cluster</th>\n    </tr>\n  </thead>\n  <tbody>\n    <tr>\n      <th>0</th>\n      <td>997040325</td>\n      <td>1</td>\n      <td>1</td>\n      <td>0.000000</td>\n      <td>0</td>\n      <td>0</td>\n      <td>0.000000</td>\n      <td>0</td>\n    </tr>\n    <tr>\n      <th>1</th>\n      <td>998226697</td>\n      <td>2</td>\n      <td>1</td>\n      <td>1.369956</td>\n      <td>1</td>\n      <td>1</td>\n      <td>2.739536</td>\n      <td>0</td>\n    </tr>\n    <tr>\n      <th>2</th>\n      <td>995117731</td>\n      <td>1</td>\n      <td>1</td>\n      <td>0.000000</td>\n      <td>0</td>\n      <td>0</td>\n      <td>0.000000</td>\n      <td>0</td>\n    </tr>\n    <tr>\n      <th>3</th>\n      <td>991378712</td>\n      <td>2</td>\n      <td>1</td>\n      <td>0.013344</td>\n      <td>1</td>\n      <td>1</td>\n      <td>0.026688</td>\n      <td>0</td>\n    </tr>\n    <tr>\n      <th>4</th>\n      <td>995865856</td>\n      <td>1</td>\n      <td>1</td>\n      <td>0.000000</td>\n      <td>0</td>\n      <td>0</td>\n      <td>0.000000</td>\n      <td>0</td>\n    </tr>\n    <tr>\n      <th>...</th>\n      <td>...</td>\n      <td>...</td>\n      <td>...</td>\n      <td>...</td>\n      <td>...</td>\n      <td>...</td>\n      <td>...</td>\n      <td>...</td>\n    </tr>\n    <tr>\n      <th>7373200</th>\n      <td>992095090</td>\n      <td>1</td>\n      <td>1</td>\n      <td>0.000000</td>\n      <td>0</td>\n      <td>0</td>\n      <td>0.000000</td>\n      <td>0</td>\n    </tr>\n    <tr>\n      <th>7373201</th>\n      <td>993970279</td>\n      <td>1</td>\n      <td>1</td>\n      <td>0.000000</td>\n      <td>0</td>\n      <td>0</td>\n      <td>0.000000</td>\n      <td>0</td>\n    </tr>\n    <tr>\n      <th>7373202</th>\n      <td>996138165</td>\n      <td>1</td>\n      <td>1</td>\n      <td>0.000080</td>\n      <td>1</td>\n      <td>1</td>\n      <td>0.000160</td>\n      <td>0</td>\n    </tr>\n    <tr>\n      <th>7373203</th>\n      <td>993736393</td>\n      <td>1</td>\n      <td>1</td>\n      <td>0.000000</td>\n      <td>0</td>\n      <td>0</td>\n      <td>0.000000</td>\n      <td>0</td>\n    </tr>\n    <tr>\n      <th>7373204</th>\n      <td>997919246</td>\n      <td>1</td>\n      <td>1</td>\n      <td>0.000000</td>\n      <td>0</td>\n      <td>0</td>\n      <td>0.000000</td>\n      <td>0</td>\n    </tr>\n  </tbody>\n</table>\n<p>7373205 rows × 8 columns</p>\n</div>"
     },
     "execution_count": 8,
     "metadata": {},
     "output_type": "execute_result"
    }
   ],
   "source": [
    "df['Cluster'] = clusters\n",
    "df"
   ],
   "metadata": {
    "collapsed": false,
    "ExecuteTime": {
     "end_time": "2024-11-17T09:25:00.009565Z",
     "start_time": "2024-11-17T09:24:59.991395Z"
    }
   },
   "id": "b614eaec953e856a"
  },
  {
   "cell_type": "code",
   "execution_count": 9,
   "outputs": [
    {
     "name": "stdout",
     "output_type": "stream",
     "text": [
      "Clusters components:\n",
      " [ 0  1  2  3  4  5  6  7  8  9 10 11]\n",
      "Clusters components counts:\n",
      " [7015511       1       1       3       1       3       1    2851       1\n",
      "   84377   20258  250197]\n"
     ]
    }
   ],
   "source": [
    "clusters_count = np.unique(clusters, return_counts=True)\n",
    "print('Clusters components:\\n', clusters_count[0])\n",
    "print('Clusters components counts:\\n', clusters_count[1])"
   ],
   "metadata": {
    "collapsed": false,
    "ExecuteTime": {
     "end_time": "2024-11-17T09:25:00.100383Z",
     "start_time": "2024-11-17T09:25:00.005357Z"
    }
   },
   "id": "59ce6c263e2902e2"
  },
  {
   "cell_type": "code",
   "execution_count": 10,
   "outputs": [
    {
     "name": "stdout",
     "output_type": "stream",
     "text": [
      "Cluster Sizes:\n"
     ]
    },
    {
     "data": {
      "text/plain": "Cluster\n0     7015511\n11     250197\n9       84377\n10      20258\n7        2851\n5           3\n3           3\n4           1\n6           1\n8           1\n1           1\n2           1\nName: count, dtype: int64"
     },
     "execution_count": 10,
     "metadata": {},
     "output_type": "execute_result"
    }
   ],
   "source": [
    "cluster_counts = df['Cluster'].value_counts()\n",
    "print(\"Cluster Sizes:\")\n",
    "cluster_counts"
   ],
   "metadata": {
    "collapsed": false,
    "ExecuteTime": {
     "end_time": "2024-11-17T09:25:00.124878Z",
     "start_time": "2024-11-17T09:25:00.115344Z"
    }
   },
   "id": "4cb5dd108cf2d0f"
  },
  {
   "cell_type": "code",
   "execution_count": 16,
   "outputs": [
    {
     "name": "stdout",
     "output_type": "stream",
     "text": [
      "Big clusters: Index([0, 11, 9, 10, 7, 5, 3, 4, 6, 8, 1, 2], dtype='int64', name='Cluster')\n"
     ]
    }
   ],
   "source": [
    "# Drop small clusters\n",
    "min_elements = 0\n",
    "big_clusters = df.loc[:, 'Cluster'].value_counts().loc[\n",
    "    df.loc[:, 'Cluster'].value_counts() > min_elements\n",
    "].index\n",
    "print('Big clusters:', big_clusters)\n",
    "\n",
    "df_filtered = df.loc[df.loc[:, 'Cluster'].isin(big_clusters), : ]"
   ],
   "metadata": {
    "collapsed": false,
    "ExecuteTime": {
     "end_time": "2024-11-17T09:44:56.498357Z",
     "start_time": "2024-11-17T09:44:56.318717Z"
    }
   },
   "id": "523f733509dfed7b"
  },
  {
   "cell_type": "code",
   "execution_count": 17,
   "outputs": [
    {
     "data": {
      "text/plain": "        TOTAL_RECIEVE_ADDRESSES              TOTAL_RECIEVE_TRANSACTIONS  \\\n                           mean          std                       mean   \nCluster                                                                   \n0                      1.465684     0.581301                   1.162862   \n1                      203739.0         <NA>                  2638014.0   \n2                       17153.0         <NA>                    98529.0   \n3                  71712.666667   23385.1931              305278.666667   \n4                           1.0         <NA>                     3750.0   \n5                           1.0          0.0                      850.0   \n6                           1.0         <NA>                     2772.0   \n7                    539.568222  1446.213921                2695.086636   \n8                           1.0         <NA>                   132018.0   \n9                     13.881176    19.846696                  30.867511   \n10                     47.51086    109.09007                 152.587373   \n11                     4.379417     3.241112                   9.569699   \n\n                       TOTAL_BTC_RECEIVED                 \\\n                   std               mean            std   \nCluster                                                    \n0             0.884902       5.891185e-02       0.451272   \n1                 <NA>       2.198079e+05            NaN   \n2                 <NA>       3.030462e+06            NaN   \n3        166355.383022       4.272863e+05  435277.166667   \n4                 <NA>       1.094921e+06            NaN   \n5             969.1909       6.968271e+04   62571.677431   \n6                 <NA>       6.072788e+06            NaN   \n7         12839.742804       1.358785e+04   75334.346071   \n8                 <NA>       5.057136e+06            NaN   \n9            45.990517       1.185719e+01      21.163922   \n10          281.915378       1.843635e+02     384.938814   \n11           11.936784       5.183308e-01       1.696976   \n\n        TOTAL_SPEND_ADDRESSES              TOTAL_SPEND_TRANSACTIONS  \\\n                         mean          std                     mean   \nCluster                                                               \n0                    0.484893     0.552122                 0.479837   \n1                    203739.0         <NA>                1783339.0   \n2                     17153.0         <NA>                   1294.0   \n3                71712.666667   23385.1931                   3856.0   \n4                         1.0         <NA>                    125.0   \n5                         1.0          0.0               653.666667   \n6                         1.0         <NA>                    487.0   \n7                  397.533146  1422.722535               275.220975   \n8                         1.0         <NA>                  11037.0   \n9                    6.745333     9.304371                 6.271519   \n10                  30.013772    62.937514                30.787837   \n11                   2.945739     2.330769                 3.156641   \n\n                     TOTAL_BTC_SPENT                 \n                 std            mean            std  \nCluster                                              \n0           0.554087    8.926303e-02       0.730710  \n1               <NA>    3.297009e+05            NaN  \n2               <NA>    2.372420e+06            NaN  \n3         991.146306    6.836952e+05  689853.628747  \n4               <NA>    6.445774e+06            NaN  \n5        1074.319475    2.897526e+06  471971.414895  \n6               <NA>    5.237346e+06            NaN  \n7        3471.866653    1.439666e+04   74462.753676  \n8               <NA>    3.007270e+06            NaN  \n9          13.736663    2.357719e+01      46.880855  \n10        110.016122    2.806499e+02     523.514134  \n11           4.66736    4.981939e-01       1.981992  ",
      "text/html": "<div>\n<style scoped>\n    .dataframe tbody tr th:only-of-type {\n        vertical-align: middle;\n    }\n\n    .dataframe tbody tr th {\n        vertical-align: top;\n    }\n\n    .dataframe thead tr th {\n        text-align: left;\n    }\n\n    .dataframe thead tr:last-of-type th {\n        text-align: right;\n    }\n</style>\n<table border=\"1\" class=\"dataframe\">\n  <thead>\n    <tr>\n      <th></th>\n      <th colspan=\"2\" halign=\"left\">TOTAL_RECIEVE_ADDRESSES</th>\n      <th colspan=\"2\" halign=\"left\">TOTAL_RECIEVE_TRANSACTIONS</th>\n      <th colspan=\"2\" halign=\"left\">TOTAL_BTC_RECEIVED</th>\n      <th colspan=\"2\" halign=\"left\">TOTAL_SPEND_ADDRESSES</th>\n      <th colspan=\"2\" halign=\"left\">TOTAL_SPEND_TRANSACTIONS</th>\n      <th colspan=\"2\" halign=\"left\">TOTAL_BTC_SPENT</th>\n    </tr>\n    <tr>\n      <th></th>\n      <th>mean</th>\n      <th>std</th>\n      <th>mean</th>\n      <th>std</th>\n      <th>mean</th>\n      <th>std</th>\n      <th>mean</th>\n      <th>std</th>\n      <th>mean</th>\n      <th>std</th>\n      <th>mean</th>\n      <th>std</th>\n    </tr>\n    <tr>\n      <th>Cluster</th>\n      <th></th>\n      <th></th>\n      <th></th>\n      <th></th>\n      <th></th>\n      <th></th>\n      <th></th>\n      <th></th>\n      <th></th>\n      <th></th>\n      <th></th>\n      <th></th>\n    </tr>\n  </thead>\n  <tbody>\n    <tr>\n      <th>0</th>\n      <td>1.465684</td>\n      <td>0.581301</td>\n      <td>1.162862</td>\n      <td>0.884902</td>\n      <td>5.891185e-02</td>\n      <td>0.451272</td>\n      <td>0.484893</td>\n      <td>0.552122</td>\n      <td>0.479837</td>\n      <td>0.554087</td>\n      <td>8.926303e-02</td>\n      <td>0.730710</td>\n    </tr>\n    <tr>\n      <th>1</th>\n      <td>203739.0</td>\n      <td>&lt;NA&gt;</td>\n      <td>2638014.0</td>\n      <td>&lt;NA&gt;</td>\n      <td>2.198079e+05</td>\n      <td>NaN</td>\n      <td>203739.0</td>\n      <td>&lt;NA&gt;</td>\n      <td>1783339.0</td>\n      <td>&lt;NA&gt;</td>\n      <td>3.297009e+05</td>\n      <td>NaN</td>\n    </tr>\n    <tr>\n      <th>2</th>\n      <td>17153.0</td>\n      <td>&lt;NA&gt;</td>\n      <td>98529.0</td>\n      <td>&lt;NA&gt;</td>\n      <td>3.030462e+06</td>\n      <td>NaN</td>\n      <td>17153.0</td>\n      <td>&lt;NA&gt;</td>\n      <td>1294.0</td>\n      <td>&lt;NA&gt;</td>\n      <td>2.372420e+06</td>\n      <td>NaN</td>\n    </tr>\n    <tr>\n      <th>3</th>\n      <td>71712.666667</td>\n      <td>23385.1931</td>\n      <td>305278.666667</td>\n      <td>166355.383022</td>\n      <td>4.272863e+05</td>\n      <td>435277.166667</td>\n      <td>71712.666667</td>\n      <td>23385.1931</td>\n      <td>3856.0</td>\n      <td>991.146306</td>\n      <td>6.836952e+05</td>\n      <td>689853.628747</td>\n    </tr>\n    <tr>\n      <th>4</th>\n      <td>1.0</td>\n      <td>&lt;NA&gt;</td>\n      <td>3750.0</td>\n      <td>&lt;NA&gt;</td>\n      <td>1.094921e+06</td>\n      <td>NaN</td>\n      <td>1.0</td>\n      <td>&lt;NA&gt;</td>\n      <td>125.0</td>\n      <td>&lt;NA&gt;</td>\n      <td>6.445774e+06</td>\n      <td>NaN</td>\n    </tr>\n    <tr>\n      <th>5</th>\n      <td>1.0</td>\n      <td>0.0</td>\n      <td>850.0</td>\n      <td>969.1909</td>\n      <td>6.968271e+04</td>\n      <td>62571.677431</td>\n      <td>1.0</td>\n      <td>0.0</td>\n      <td>653.666667</td>\n      <td>1074.319475</td>\n      <td>2.897526e+06</td>\n      <td>471971.414895</td>\n    </tr>\n    <tr>\n      <th>6</th>\n      <td>1.0</td>\n      <td>&lt;NA&gt;</td>\n      <td>2772.0</td>\n      <td>&lt;NA&gt;</td>\n      <td>6.072788e+06</td>\n      <td>NaN</td>\n      <td>1.0</td>\n      <td>&lt;NA&gt;</td>\n      <td>487.0</td>\n      <td>&lt;NA&gt;</td>\n      <td>5.237346e+06</td>\n      <td>NaN</td>\n    </tr>\n    <tr>\n      <th>7</th>\n      <td>539.568222</td>\n      <td>1446.213921</td>\n      <td>2695.086636</td>\n      <td>12839.742804</td>\n      <td>1.358785e+04</td>\n      <td>75334.346071</td>\n      <td>397.533146</td>\n      <td>1422.722535</td>\n      <td>275.220975</td>\n      <td>3471.866653</td>\n      <td>1.439666e+04</td>\n      <td>74462.753676</td>\n    </tr>\n    <tr>\n      <th>8</th>\n      <td>1.0</td>\n      <td>&lt;NA&gt;</td>\n      <td>132018.0</td>\n      <td>&lt;NA&gt;</td>\n      <td>5.057136e+06</td>\n      <td>NaN</td>\n      <td>1.0</td>\n      <td>&lt;NA&gt;</td>\n      <td>11037.0</td>\n      <td>&lt;NA&gt;</td>\n      <td>3.007270e+06</td>\n      <td>NaN</td>\n    </tr>\n    <tr>\n      <th>9</th>\n      <td>13.881176</td>\n      <td>19.846696</td>\n      <td>30.867511</td>\n      <td>45.990517</td>\n      <td>1.185719e+01</td>\n      <td>21.163922</td>\n      <td>6.745333</td>\n      <td>9.304371</td>\n      <td>6.271519</td>\n      <td>13.736663</td>\n      <td>2.357719e+01</td>\n      <td>46.880855</td>\n    </tr>\n    <tr>\n      <th>10</th>\n      <td>47.51086</td>\n      <td>109.09007</td>\n      <td>152.587373</td>\n      <td>281.915378</td>\n      <td>1.843635e+02</td>\n      <td>384.938814</td>\n      <td>30.013772</td>\n      <td>62.937514</td>\n      <td>30.787837</td>\n      <td>110.016122</td>\n      <td>2.806499e+02</td>\n      <td>523.514134</td>\n    </tr>\n    <tr>\n      <th>11</th>\n      <td>4.379417</td>\n      <td>3.241112</td>\n      <td>9.569699</td>\n      <td>11.936784</td>\n      <td>5.183308e-01</td>\n      <td>1.696976</td>\n      <td>2.945739</td>\n      <td>2.330769</td>\n      <td>3.156641</td>\n      <td>4.66736</td>\n      <td>4.981939e-01</td>\n      <td>1.981992</td>\n    </tr>\n  </tbody>\n</table>\n</div>"
     },
     "execution_count": 17,
     "metadata": {},
     "output_type": "execute_result"
    }
   ],
   "source": [
    "cluster_stats = df_filtered.groupby('Cluster')[features].agg(['mean', 'std'])\n",
    "cluster_stats"
   ],
   "metadata": {
    "collapsed": false,
    "ExecuteTime": {
     "end_time": "2024-11-17T09:45:01.101307Z",
     "start_time": "2024-11-17T09:45:00.288456Z"
    }
   },
   "id": "893fa0b8e7a990c4"
  },
  {
   "cell_type": "code",
   "execution_count": 14,
   "outputs": [],
   "source": [],
   "metadata": {
    "collapsed": false,
    "ExecuteTime": {
     "end_time": "2024-11-17T09:25:01.225004Z",
     "start_time": "2024-11-17T09:25:01.223203Z"
    }
   },
   "id": "d3ebf8e1c3241a11"
  },
  {
   "cell_type": "code",
   "execution_count": 14,
   "outputs": [],
   "source": [],
   "metadata": {
    "collapsed": false,
    "ExecuteTime": {
     "end_time": "2024-11-17T09:25:01.230307Z",
     "start_time": "2024-11-17T09:25:01.225036Z"
    }
   },
   "id": "e0301cdcc3b3b41e"
  },
  {
   "cell_type": "code",
   "execution_count": 14,
   "outputs": [],
   "source": [],
   "metadata": {
    "collapsed": false,
    "ExecuteTime": {
     "end_time": "2024-11-17T09:25:01.230489Z",
     "start_time": "2024-11-17T09:25:01.226801Z"
    }
   },
   "id": "5cec1d1106c37207"
  },
  {
   "cell_type": "code",
   "execution_count": 14,
   "outputs": [],
   "source": [],
   "metadata": {
    "collapsed": false,
    "ExecuteTime": {
     "end_time": "2024-11-17T09:25:01.231297Z",
     "start_time": "2024-11-17T09:25:01.229370Z"
    }
   },
   "id": "de4fe96349eb3713"
  },
  {
   "cell_type": "code",
   "execution_count": 14,
   "outputs": [],
   "source": [],
   "metadata": {
    "collapsed": false,
    "ExecuteTime": {
     "end_time": "2024-11-17T09:25:01.237617Z",
     "start_time": "2024-11-17T09:25:01.231507Z"
    }
   },
   "id": "d8eb72f409aba07"
  },
  {
   "cell_type": "code",
   "execution_count": 14,
   "outputs": [],
   "source": [],
   "metadata": {
    "collapsed": false,
    "ExecuteTime": {
     "end_time": "2024-11-17T09:25:01.237866Z",
     "start_time": "2024-11-17T09:25:01.233911Z"
    }
   },
   "id": "4b541509b64ff4e8"
  },
  {
   "cell_type": "code",
   "execution_count": 14,
   "outputs": [],
   "source": [],
   "metadata": {
    "collapsed": false,
    "ExecuteTime": {
     "end_time": "2024-11-17T09:25:01.237930Z",
     "start_time": "2024-11-17T09:25:01.235223Z"
    }
   },
   "id": "2204a071d769bc60"
  }
 ],
 "metadata": {
  "kernelspec": {
   "display_name": "Python 3",
   "language": "python",
   "name": "python3"
  },
  "language_info": {
   "codemirror_mode": {
    "name": "ipython",
    "version": 2
   },
   "file_extension": ".py",
   "mimetype": "text/x-python",
   "name": "python",
   "nbconvert_exporter": "python",
   "pygments_lexer": "ipython2",
   "version": "2.7.6"
  }
 },
 "nbformat": 4,
 "nbformat_minor": 5
}
